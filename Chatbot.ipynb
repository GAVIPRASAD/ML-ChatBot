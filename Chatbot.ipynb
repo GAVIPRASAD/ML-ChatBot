{
 "cells": [
  {
   "cell_type": "code",
   "execution_count": 1,
   "metadata": {
    "colab": {
     "base_uri": "https://localhost:8080/"
    },
    "id": "0r7kjhiqrNyL",
    "outputId": "15456a63-163b-4f9c-b9e9-18ea76b8fff4"
   },
   "outputs": [
    {
     "name": "stderr",
     "output_type": "stream",
     "text": [
      "[nltk_data] Downloading package punkt to\n",
      "[nltk_data]     C:\\Users\\kmgav\\AppData\\Roaming\\nltk_data...\n",
      "[nltk_data]   Package punkt is already up-to-date!\n"
     ]
    }
   ],
   "source": [
    "# !pip install torch\n",
    "import numpy as np\n",
    "import random\n",
    "import json\n",
    "import nltk\n",
    "from nltk.stem.porter import PorterStemmer\n",
    "nltk.download('punkt')\n",
    "import torch\n",
    "import torch.nn as nn\n",
    "from torch.utils.data import Dataset, DataLoader\n",
    "stemmer = PorterStemmer()"
   ]
  },
  {
   "cell_type": "code",
   "execution_count": 2,
   "metadata": {
    "id": "6rUyPAJgiyFI"
   },
   "outputs": [],
   "source": [
    "def tokenize(sentence):\n",
    "    return nltk.word_tokenize(sentence)"
   ]
  },
  {
   "cell_type": "code",
   "execution_count": 3,
   "metadata": {
    "id": "I_LTRjevi2-t"
   },
   "outputs": [],
   "source": [
    "def stem(word):\n",
    "    return stemmer.stem(word.lower())"
   ]
  },
  {
   "cell_type": "code",
   "execution_count": 4,
   "metadata": {
    "id": "J7Ph6IoJi5ZE"
   },
   "outputs": [],
   "source": [
    "def bag_of_words(tokenized_sentence, words):\n",
    "    sentence_words= [stem(word) for word in tokenized_sentence]\n",
    "    bag= np.zeros(len(words), dtype=np.float32)\n",
    "    for idx, w in enumerate(words):\n",
    "        if w in sentence_words: \n",
    "            bag[idx]= 1\n",
    "    return bag"
   ]
  },
  {
   "cell_type": "code",
   "execution_count": 5,
   "metadata": {
    "id": "VNaimdQ_bOtm"
   },
   "outputs": [],
   "source": [
    "class NeuralNet(nn.Module):\n",
    "    def __init__(self, input_size, hidden_size, num_classes):\n",
    "        super(NeuralNet, self).__init__()\n",
    "        self.l1= nn.Linear(input_size, hidden_size) \n",
    "        self.l2= nn.Linear(hidden_size, hidden_size) \n",
    "        self.l3= nn.Linear(hidden_size, num_classes)\n",
    "        self.relu= nn.ReLU()\n",
    "\n",
    "    def forward(self, x):\n",
    "        out= self.l1(x)\n",
    "        out= self.relu(out)\n",
    "        out= self.l2(out)\n",
    "        out= self.relu(out)\n",
    "        out= self.l3(out)\n",
    "        return out"
   ]
  },
  {
   "cell_type": "code",
   "execution_count": 6,
   "metadata": {
    "id": "CR16cFJKak1O"
   },
   "outputs": [],
   "source": [
    "with open('intents.json', 'r') as f:\n",
    "    intents= json.load(f)"
   ]
  },
  {
   "cell_type": "code",
   "execution_count": 7,
   "metadata": {
    "id": "4PExF-hAjU7K"
   },
   "outputs": [],
   "source": [
    "all_words= []\n",
    "tags= []\n",
    "xy= []\n",
    "for intent in intents['intents']:\n",
    "    tag= intent['tag']\n",
    "    tags.append(tag)\n",
    "    for pattern in intent['patterns']:\n",
    "        w= tokenize(pattern)\n",
    "        all_words.extend(w)\n",
    "        xy.append((w, tag))"
   ]
  },
  {
   "cell_type": "code",
   "execution_count": 8,
   "metadata": {
    "colab": {
     "base_uri": "https://localhost:8080/"
    },
    "id": "BKP8FmOsjyUh",
    "outputId": "62b388a1-ce66-41a3-de88-638147d9550e"
   },
   "outputs": [
    {
     "name": "stdout",
     "output_type": "stream",
     "text": [
      "33 patterns\n",
      "10 tags: ['appointment', 'goodbye', 'greeting', 'hours', 'mopeds', 'opentoday', 'payments', 'rental', 'thanks', 'today']\n",
      "54 unique stemmed words: [\"'d\", \"'s\", 'a', 'accept', 'anyon', 'appoint', 'are', 'bye', 'can', 'card', 'cash', 'credit', 'day', 'do', 'doe', 'for', 'good', 'goodby', 'have', 'hello', 'help', 'hi', 'hour', 'how', 'i', 'is', 'kind', 'later', 'like', 'mastercard', 'mope', 'need', 'of', 'onli', 'open', 'rent', 'see', 'take', 'tata', 'thank', 'that', 'the', 'there', 'thi', 'to', 'today', 'want', 'we', 'what', 'when', 'which', 'work', 'you', 'your']\n"
     ]
    }
   ],
   "source": [
    "ignore_words= ['?', '.', '!']\n",
    "all_words= [stem(w) for w in all_words if w not in ignore_words]\n",
    "all_words= sorted(set(all_words))\n",
    "tags= sorted(set(tags))\n",
    "\n",
    "print(len(xy), \"patterns\")\n",
    "print(len(tags), \"tags:\", tags)\n",
    "print(len(all_words), \"unique stemmed words:\", all_words)"
   ]
  },
  {
   "cell_type": "code",
   "execution_count": 9,
   "metadata": {
    "id": "ODEa_BX_j-fl"
   },
   "outputs": [],
   "source": [
    "#Train data\n",
    "X_train= []\n",
    "y_train= []\n",
    "for (pattern_sentence, tag) in xy:\n",
    "    bag= bag_of_words(pattern_sentence, all_words)\n",
    "    X_train.append(bag)\n",
    "    label= tags.index(tag)\n",
    "    y_train.append(label)\n",
    "\n",
    "X_train= np.array(X_train)\n",
    "y_train= np.array(y_train)"
   ]
  },
  {
   "cell_type": "code",
   "execution_count": 10,
   "metadata": {
    "colab": {
     "base_uri": "https://localhost:8080/"
    },
    "id": "pCUoVM4ckLAC",
    "outputId": "d1e9e5b7-bf12-4d5b-d2df-89ec9230e218"
   },
   "outputs": [
    {
     "name": "stdout",
     "output_type": "stream",
     "text": [
      "54 10\n"
     ]
    }
   ],
   "source": [
    "#parameter tuning\n",
    "num_epochs= 1000\n",
    "batch_size= 8\n",
    "learning_rate= 0.001\n",
    "input_size= len(X_train[0])\n",
    "hidden_size= 8\n",
    "output_size= len(tags)\n",
    "print(input_size, output_size)"
   ]
  },
  {
   "cell_type": "code",
   "execution_count": 11,
   "metadata": {
    "id": "QxjCLjTxkbkR"
   },
   "outputs": [],
   "source": [
    "class ChatDataset(Dataset):\n",
    "    def __init__(self):\n",
    "        self.n_samples= len(X_train)\n",
    "        self.x_data= X_train\n",
    "        self.y_data= y_train\n",
    "\n",
    "    def __getitem__(self, index):\n",
    "        return self.x_data[index], self.y_data[index]\n",
    "\n",
    "    def __len__(self):\n",
    "        return self.n_samples"
   ]
  },
  {
   "cell_type": "code",
   "execution_count": 12,
   "metadata": {
    "id": "DLpDGxBQkshM"
   },
   "outputs": [],
   "source": [
    "dataset= ChatDataset()\n",
    "train_loader= DataLoader(dataset=dataset,\n",
    "                          batch_size=batch_size,\n",
    "                          shuffle=True,\n",
    "                          num_workers=0)"
   ]
  },
  {
   "cell_type": "code",
   "execution_count": 13,
   "metadata": {
    "id": "BGpGplMqkxKx"
   },
   "outputs": [],
   "source": [
    "device= torch.device('cuda' if torch.cuda.is_available() else 'cpu')"
   ]
  },
  {
   "cell_type": "code",
   "execution_count": 14,
   "metadata": {
    "id": "Cc5FO33Ck0qI"
   },
   "outputs": [],
   "source": [
    "model= NeuralNet(input_size, hidden_size, output_size).to(device)"
   ]
  },
  {
   "cell_type": "code",
   "execution_count": 15,
   "metadata": {
    "id": "s-NdyESNlBnz"
   },
   "outputs": [],
   "source": [
    "criterion= nn.CrossEntropyLoss()\n",
    "optimizer= torch.optim.Adam(model.parameters(), lr=learning_rate)"
   ]
  },
  {
   "cell_type": "code",
   "execution_count": 16,
   "metadata": {
    "colab": {
     "base_uri": "https://localhost:8080/"
    },
    "id": "yZDK9CLNk7Y_",
    "outputId": "037e42de-97c8-4b47-ed05-4bfe9fbe4841"
   },
   "outputs": [
    {
     "name": "stdout",
     "output_type": "stream",
     "text": [
      "Epoch [100/1000], Loss: 1.9724\n",
      "Epoch [200/1000], Loss: 0.4803\n",
      "Epoch [300/1000], Loss: 0.2350\n",
      "Epoch [400/1000], Loss: 0.0033\n",
      "Epoch [500/1000], Loss: 0.0163\n",
      "Epoch [600/1000], Loss: 0.0018\n",
      "Epoch [700/1000], Loss: 0.0025\n",
      "Epoch [800/1000], Loss: 0.0001\n",
      "Epoch [900/1000], Loss: 0.0029\n",
      "Epoch [1000/1000], Loss: 0.0001\n",
      "final loss: 0.0001\n"
     ]
    }
   ],
   "source": [
    "#Model training\n",
    "for epoch in range(num_epochs):\n",
    "    for (words, labels) in train_loader:\n",
    "        words= words.to(device)\n",
    "        labels= labels.to(dtype=torch.long).to(device)\n",
    "        outputs= model(words)\n",
    "        loss= criterion(outputs, labels)\n",
    "        optimizer.zero_grad()\n",
    "        loss.backward()\n",
    "        optimizer.step()\n",
    "        \n",
    "    if (epoch+1)%100== 0:\n",
    "        print (f'Epoch [{epoch+1}/{num_epochs}], Loss: {loss.item():.4f}')\n",
    "print(f'final loss: {loss.item():.4f}')"
   ]
  },
  {
   "cell_type": "code",
   "execution_count": 17,
   "metadata": {
    "id": "U2-9qVDLletn"
   },
   "outputs": [],
   "source": [
    "data= {\n",
    "\"model_state\": model.state_dict(),\n",
    "\"input_size\": input_size,\n",
    "\"hidden_size\": hidden_size,\n",
    "\"output_size\": output_size,\n",
    "\"all_words\": all_words,\n",
    "\"tags\": tags\n",
    "}"
   ]
  },
  {
   "cell_type": "code",
   "execution_count": 18,
   "metadata": {
    "colab": {
     "base_uri": "https://localhost:8080/"
    },
    "id": "OLwVLEmxmyAH",
    "outputId": "dc8429b6-1f34-44dd-f07a-81506b8fcd8c"
   },
   "outputs": [
    {
     "name": "stdout",
     "output_type": "stream",
     "text": [
      "Training done. file saved to data.pth\n"
     ]
    }
   ],
   "source": [
    "FILE= \"data.pth\"\n",
    "torch.save(data, FILE)\n",
    "print(f'Training done. file saved to {FILE}')"
   ]
  },
  {
   "cell_type": "code",
   "execution_count": 19,
   "metadata": {
    "id": "NMG2dPcDbp24"
   },
   "outputs": [],
   "source": [
    "with open('intents.json', 'r') as json_data:\n",
    "    intents= json.load(json_data)\n",
    "FILE= \"data.pth\"\n",
    "data= torch.load(FILE)"
   ]
  },
  {
   "cell_type": "code",
   "execution_count": 20,
   "metadata": {
    "colab": {
     "base_uri": "https://localhost:8080/"
    },
    "id": "3Z6MmkgenXpN",
    "outputId": "5c445c10-e141-40c8-e38c-4740e2821633"
   },
   "outputs": [
    {
     "data": {
      "text/plain": [
       "NeuralNet(\n",
       "  (l1): Linear(in_features=54, out_features=8, bias=True)\n",
       "  (l2): Linear(in_features=8, out_features=8, bias=True)\n",
       "  (l3): Linear(in_features=8, out_features=10, bias=True)\n",
       "  (relu): ReLU()\n",
       ")"
      ]
     },
     "execution_count": 20,
     "metadata": {},
     "output_type": "execute_result"
    }
   ],
   "source": [
    "input_size= data[\"input_size\"]\n",
    "hidden_size= data[\"hidden_size\"]\n",
    "output_size= data[\"output_size\"]\n",
    "all_words= data['all_words']\n",
    "tags= data['tags']\n",
    "model_state= data[\"model_state\"]\n",
    "\n",
    "model= NeuralNet(input_size, hidden_size, output_size).to(device)\n",
    "model.load_state_dict(model_state)\n",
    "model.eval()"
   ]
  },
  {
   "cell_type": "code",
   "execution_count": 21,
   "metadata": {
    "colab": {
     "base_uri": "https://localhost:8080/"
    },
    "id": "NK85pQYDndmc",
    "outputId": "a1b3fc0b-f444-44a2-8192-f9957e920681"
   },
   "outputs": [
    {
     "name": "stdout",
     "output_type": "stream",
     "text": [
      "Let's chat! (type 'quit' to exit)\n",
      "You: Hello\n",
      "Doctor AI: Good to see you again\n",
      "You: open today\n",
      "Doctor AI: We're open every day from 9am-9pm\n",
      "You: appointment needed\n",
      "Doctor AI: Yeah, I m there for you i ll book\n",
      "You: do you have mopeds\n",
      "Doctor AI: We have Piaggio, Vespa and Yamaha mopeds\n",
      "You: i need moped for rent\n",
      "Doctor AI: We rent Yamaha, Piaggio and Vespa mopeds\n",
      "You: will you accept credit cards \n",
      "Doctor AI: We accept most major credit cards\n",
      "You: thanks\n",
      "Doctor AI: My pleasure\n",
      "You: bye\n",
      "Doctor AI: Have a nice day\n",
      "You: quit\n"
     ]
    }
   ],
   "source": [
    "bot= \"Doctor AI\"\n",
    "print(\"Let's chat! (type 'quit' to exit)\")\n",
    "while True:\n",
    "    sentence= input(\"You: \")\n",
    "    if sentence== \"quit\":\n",
    "        break\n",
    "\n",
    "    sentence= tokenize(sentence)\n",
    "    X= bag_of_words(sentence, all_words)\n",
    "    X= X.reshape(1, X.shape[0])\n",
    "    X= torch.from_numpy(X).to(device)\n",
    "\n",
    "    output= model(X)\n",
    "    _,predicted= torch.max(output, dim=1)\n",
    "    tag= tags[predicted.item()]\n",
    "\n",
    "    probs= torch.softmax(output, dim=1)\n",
    "    prob= probs[0][predicted.item()]\n",
    "    if prob.item() > 0.75:\n",
    "        for intent in intents['intents']:\n",
    "            if tag== intent[\"tag\"]:\n",
    "                print(f\"{bot}: {random.choice(intent['responses'])}\")\n",
    "    else:\n",
    "        print(f\"{bot}: I do not understand, say again please..\")"
   ]
  },
  {
   "cell_type": "code",
   "execution_count": null,
   "metadata": {},
   "outputs": [],
   "source": []
  }
 ],
 "metadata": {
  "colab": {
   "collapsed_sections": [],
   "name": "Chatbot.ipynb",
   "provenance": []
  },
  "kernelspec": {
   "display_name": "Python 3 (ipykernel)",
   "language": "python",
   "name": "python3"
  },
  "language_info": {
   "codemirror_mode": {
    "name": "ipython",
    "version": 3
   },
   "file_extension": ".py",
   "mimetype": "text/x-python",
   "name": "python",
   "nbconvert_exporter": "python",
   "pygments_lexer": "ipython3",
   "version": "3.9.12"
  }
 },
 "nbformat": 4,
 "nbformat_minor": 1
}
